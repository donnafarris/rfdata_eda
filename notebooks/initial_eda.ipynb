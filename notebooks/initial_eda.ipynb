{
 "cells": [
  {
   "cell_type": "code",
   "execution_count": 1,
   "metadata": {},
   "outputs": [],
   "source": [
    "import pandas as pd"
   ]
  },
  {
   "cell_type": "code",
   "execution_count": 2,
   "metadata": {},
   "outputs": [],
   "source": [
    "rf_df = pd.read_csv('../data/logged_data.csv')"
   ]
  },
  {
   "cell_type": "code",
   "execution_count": 3,
   "metadata": {},
   "outputs": [
    {
     "data": {
      "text/html": [
       "<div>\n",
       "<style scoped>\n",
       "    .dataframe tbody tr th:only-of-type {\n",
       "        vertical-align: middle;\n",
       "    }\n",
       "\n",
       "    .dataframe tbody tr th {\n",
       "        vertical-align: top;\n",
       "    }\n",
       "\n",
       "    .dataframe thead th {\n",
       "        text-align: right;\n",
       "    }\n",
       "</style>\n",
       "<table border=\"1\" class=\"dataframe\">\n",
       "  <thead>\n",
       "    <tr style=\"text-align: right;\">\n",
       "      <th></th>\n",
       "      <th>Timestamp</th>\n",
       "      <th>Frequency</th>\n",
       "      <th>Signal Strength</th>\n",
       "      <th>Modulation</th>\n",
       "      <th>Bandwidth</th>\n",
       "      <th>Location</th>\n",
       "      <th>Device Type</th>\n",
       "      <th>Antenna Type</th>\n",
       "      <th>Temperature</th>\n",
       "      <th>Humidity</th>\n",
       "      <th>...</th>\n",
       "      <th>Memory Usage</th>\n",
       "      <th>WiFi Strength</th>\n",
       "      <th>Disk Usage</th>\n",
       "      <th>System Load</th>\n",
       "      <th>Latitude</th>\n",
       "      <th>Longitude</th>\n",
       "      <th>Altitude(m)</th>\n",
       "      <th>Air Pressure</th>\n",
       "      <th>Device Status</th>\n",
       "      <th>I/Q Data</th>\n",
       "    </tr>\n",
       "  </thead>\n",
       "  <tbody>\n",
       "    <tr>\n",
       "      <th>0</th>\n",
       "      <td>2023-05-05 00:00:00</td>\n",
       "      <td>120000000</td>\n",
       "      <td>-44</td>\n",
       "      <td>QAM</td>\n",
       "      <td>50000</td>\n",
       "      <td>Patna, Bihar</td>\n",
       "      <td>HackRF</td>\n",
       "      <td>Yagi</td>\n",
       "      <td>24</td>\n",
       "      <td>47</td>\n",
       "      <td>...</td>\n",
       "      <td>28.3</td>\n",
       "      <td>-77</td>\n",
       "      <td>18.5</td>\n",
       "      <td>4.300781</td>\n",
       "      <td>25.612677</td>\n",
       "      <td>85.158875</td>\n",
       "      <td>59.46</td>\n",
       "      <td>NaN</td>\n",
       "      <td>Streaming I/Q data</td>\n",
       "      <td>[(-0.7204492334669581-0.13150053996590505j), (...</td>\n",
       "    </tr>\n",
       "    <tr>\n",
       "      <th>1</th>\n",
       "      <td>2023-05-05 00:00:20</td>\n",
       "      <td>160000000</td>\n",
       "      <td>-97</td>\n",
       "      <td>FM</td>\n",
       "      <td>1000000</td>\n",
       "      <td>Patna, Bihar</td>\n",
       "      <td>HackRF</td>\n",
       "      <td>Yagi</td>\n",
       "      <td>27</td>\n",
       "      <td>39</td>\n",
       "      <td>...</td>\n",
       "      <td>28.3</td>\n",
       "      <td>-57</td>\n",
       "      <td>18.5</td>\n",
       "      <td>4.300781</td>\n",
       "      <td>25.612677</td>\n",
       "      <td>85.158875</td>\n",
       "      <td>59.46</td>\n",
       "      <td>NaN</td>\n",
       "      <td>Streaming I/Q data</td>\n",
       "      <td>[(-0.9514742558373084-0.2713158600194827j), (-...</td>\n",
       "    </tr>\n",
       "  </tbody>\n",
       "</table>\n",
       "<p>2 rows × 27 columns</p>\n",
       "</div>"
      ],
      "text/plain": [
       "             Timestamp  Frequency  Signal Strength Modulation  Bandwidth  \\\n",
       "0  2023-05-05 00:00:00  120000000              -44        QAM      50000   \n",
       "1  2023-05-05 00:00:20  160000000              -97         FM    1000000   \n",
       "\n",
       "       Location Device Type Antenna Type  Temperature  Humidity  ...  \\\n",
       "0  Patna, Bihar      HackRF         Yagi           24        47  ...   \n",
       "1  Patna, Bihar      HackRF         Yagi           27        39  ...   \n",
       "\n",
       "   Memory Usage  WiFi Strength Disk Usage System Load   Latitude  Longitude  \\\n",
       "0          28.3            -77       18.5    4.300781  25.612677  85.158875   \n",
       "1          28.3            -57       18.5    4.300781  25.612677  85.158875   \n",
       "\n",
       "   Altitude(m)  Air Pressure       Device Status  \\\n",
       "0        59.46           NaN  Streaming I/Q data   \n",
       "1        59.46           NaN  Streaming I/Q data   \n",
       "\n",
       "                                            I/Q Data  \n",
       "0  [(-0.7204492334669581-0.13150053996590505j), (...  \n",
       "1  [(-0.9514742558373084-0.2713158600194827j), (-...  \n",
       "\n",
       "[2 rows x 27 columns]"
      ]
     },
     "execution_count": 3,
     "metadata": {},
     "output_type": "execute_result"
    }
   ],
   "source": [
    "rf_df.head(2)"
   ]
  },
  {
   "cell_type": "code",
   "execution_count": 4,
   "metadata": {},
   "outputs": [
    {
     "data": {
      "text/plain": [
       "(164160, 27)"
      ]
     },
     "execution_count": 4,
     "metadata": {},
     "output_type": "execute_result"
    }
   ],
   "source": [
    "rf_df.shape"
   ]
  },
  {
   "cell_type": "code",
   "execution_count": 5,
   "metadata": {},
   "outputs": [
    {
     "data": {
      "text/plain": [
       "Index(['Timestamp', 'Frequency', 'Signal Strength', 'Modulation', 'Bandwidth',\n",
       "       'Location', 'Device Type', 'Antenna Type', 'Temperature', 'Humidity',\n",
       "       'Wind Speed', 'Precipitation', 'Weather Condition', 'Interference Type',\n",
       "       'Battery Level', 'Power Source', 'CPU Usage', 'Memory Usage',\n",
       "       'WiFi Strength', 'Disk Usage', 'System Load', 'Latitude', 'Longitude',\n",
       "       'Altitude(m)', 'Air Pressure', 'Device Status', 'I/Q Data'],\n",
       "      dtype='object')"
      ]
     },
     "execution_count": 5,
     "metadata": {},
     "output_type": "execute_result"
    }
   ],
   "source": [
    "rf_df.columns"
   ]
  }
 ],
 "metadata": {
  "kernelspec": {
   "display_name": "base",
   "language": "python",
   "name": "python3"
  },
  "language_info": {
   "codemirror_mode": {
    "name": "ipython",
    "version": 3
   },
   "file_extension": ".py",
   "mimetype": "text/x-python",
   "name": "python",
   "nbconvert_exporter": "python",
   "pygments_lexer": "ipython3",
   "version": "3.11.7"
  }
 },
 "nbformat": 4,
 "nbformat_minor": 2
}

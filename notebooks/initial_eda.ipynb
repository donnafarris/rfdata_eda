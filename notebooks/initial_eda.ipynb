{
 "cells": [
  {
   "cell_type": "code",
   "execution_count": 1,
   "metadata": {},
   "outputs": [],
   "source": [
    "import numpy as np\n",
    "import pandas as pd\n",
    "import matplotlib as plt\n",
    "import seaborn as sns"
   ]
  },
  {
   "cell_type": "code",
   "execution_count": 2,
   "metadata": {},
   "outputs": [],
   "source": [
    "rf_df = pd.read_csv('../data/logged_data.csv')\n",
    "rf_df = rf_df.dropna(axis=1, how='all')"
   ]
  },
  {
   "cell_type": "code",
   "execution_count": 3,
   "metadata": {},
   "outputs": [
    {
     "data": {
      "text/plain": [
       "(164160, 26)"
      ]
     },
     "execution_count": 3,
     "metadata": {},
     "output_type": "execute_result"
    }
   ],
   "source": [
    "rf_df.shape"
   ]
  },
  {
   "cell_type": "code",
   "execution_count": 4,
   "metadata": {},
   "outputs": [
    {
     "name": "stdout",
     "output_type": "stream",
     "text": [
      "<class 'pandas.core.frame.DataFrame'>\n",
      "RangeIndex: 164160 entries, 0 to 164159\n",
      "Data columns (total 26 columns):\n",
      " #   Column             Non-Null Count   Dtype  \n",
      "---  ------             --------------   -----  \n",
      " 0   Timestamp          164160 non-null  object \n",
      " 1   Frequency          164160 non-null  int64  \n",
      " 2   Signal Strength    164160 non-null  int64  \n",
      " 3   Modulation         164160 non-null  object \n",
      " 4   Bandwidth          164160 non-null  int64  \n",
      " 5   Location           164160 non-null  object \n",
      " 6   Device Type        164160 non-null  object \n",
      " 7   Antenna Type       164160 non-null  object \n",
      " 8   Temperature        164160 non-null  int64  \n",
      " 9   Humidity           164160 non-null  int64  \n",
      " 10  Wind Speed         164160 non-null  int64  \n",
      " 11  Precipitation      164160 non-null  float64\n",
      " 12  Weather Condition  164160 non-null  object \n",
      " 13  Interference Type  122821 non-null  object \n",
      " 14  Battery Level      164160 non-null  float64\n",
      " 15  Power Source       164160 non-null  bool   \n",
      " 16  CPU Usage          164160 non-null  float64\n",
      " 17  Memory Usage       164160 non-null  float64\n",
      " 18  WiFi Strength      164160 non-null  int64  \n",
      " 19  Disk Usage         164160 non-null  float64\n",
      " 20  System Load        164160 non-null  float64\n",
      " 21  Latitude           164160 non-null  float64\n",
      " 22  Longitude          164160 non-null  float64\n",
      " 23  Altitude(m)        164160 non-null  float64\n",
      " 24  Device Status      164160 non-null  object \n",
      " 25  I/Q Data           109324 non-null  object \n",
      "dtypes: bool(1), float64(9), int64(7), object(9)\n",
      "memory usage: 31.5+ MB\n"
     ]
    }
   ],
   "source": [
    "rf_df.info()"
   ]
  },
  {
   "cell_type": "code",
   "execution_count": 5,
   "metadata": {},
   "outputs": [],
   "source": [
    "null_values = rf_df.isnull().sum()\n",
    "null_values = null_values[null_values > 0]"
   ]
  },
  {
   "cell_type": "code",
   "execution_count": 6,
   "metadata": {},
   "outputs": [
    {
     "name": "stdout",
     "output_type": "stream",
     "text": [
      "% null values in Interference Type: 25.18213937621832\n",
      "% null values in I/Q Data: 33.40399610136453\n"
     ]
    }
   ],
   "source": [
    "null_percent = (null_values / len(rf_df)) * 100\n",
    "for column, percent in zip(null_percent.index, null_percent):\n",
    "    print(f\"% null values in {column}: {percent}\")"
   ]
  },
  {
   "cell_type": "code",
   "execution_count": 7,
   "metadata": {},
   "outputs": [
    {
     "data": {
      "text/html": [
       "<div>\n",
       "<style scoped>\n",
       "    .dataframe tbody tr th:only-of-type {\n",
       "        vertical-align: middle;\n",
       "    }\n",
       "\n",
       "    .dataframe tbody tr th {\n",
       "        vertical-align: top;\n",
       "    }\n",
       "\n",
       "    .dataframe thead th {\n",
       "        text-align: right;\n",
       "    }\n",
       "</style>\n",
       "<table border=\"1\" class=\"dataframe\">\n",
       "  <thead>\n",
       "    <tr style=\"text-align: right;\">\n",
       "      <th></th>\n",
       "      <th>Frequency</th>\n",
       "      <th>Signal Strength</th>\n",
       "      <th>Bandwidth</th>\n",
       "      <th>Temperature</th>\n",
       "      <th>Humidity</th>\n",
       "      <th>Wind Speed</th>\n",
       "      <th>Precipitation</th>\n",
       "      <th>Battery Level</th>\n",
       "      <th>CPU Usage</th>\n",
       "      <th>Memory Usage</th>\n",
       "      <th>WiFi Strength</th>\n",
       "      <th>Disk Usage</th>\n",
       "      <th>System Load</th>\n",
       "      <th>Latitude</th>\n",
       "      <th>Longitude</th>\n",
       "      <th>Altitude(m)</th>\n",
       "    </tr>\n",
       "  </thead>\n",
       "  <tbody>\n",
       "    <tr>\n",
       "      <th>count</th>\n",
       "      <td>1.641600e+05</td>\n",
       "      <td>164160.000000</td>\n",
       "      <td>164160.000000</td>\n",
       "      <td>164160.000000</td>\n",
       "      <td>164160.000000</td>\n",
       "      <td>164160.000000</td>\n",
       "      <td>164160.000000</td>\n",
       "      <td>164160.0</td>\n",
       "      <td>164160.000000</td>\n",
       "      <td>164160.000000</td>\n",
       "      <td>164160.000000</td>\n",
       "      <td>164160.0</td>\n",
       "      <td>164160.000000</td>\n",
       "      <td>1.641600e+05</td>\n",
       "      <td>1.641600e+05</td>\n",
       "      <td>1.641600e+05</td>\n",
       "    </tr>\n",
       "    <tr>\n",
       "      <th>mean</th>\n",
       "      <td>1.134665e+08</td>\n",
       "      <td>-49.931609</td>\n",
       "      <td>310092.531676</td>\n",
       "      <td>29.990869</td>\n",
       "      <td>50.085977</td>\n",
       "      <td>9.996851</td>\n",
       "      <td>24.951906</td>\n",
       "      <td>100.0</td>\n",
       "      <td>10.399714</td>\n",
       "      <td>29.404420</td>\n",
       "      <td>-49.861489</td>\n",
       "      <td>18.5</td>\n",
       "      <td>4.619985</td>\n",
       "      <td>2.561268e+01</td>\n",
       "      <td>8.515888e+01</td>\n",
       "      <td>5.946000e+01</td>\n",
       "    </tr>\n",
       "    <tr>\n",
       "      <th>std</th>\n",
       "      <td>3.038276e+07</td>\n",
       "      <td>29.189775</td>\n",
       "      <td>347437.723249</td>\n",
       "      <td>6.055765</td>\n",
       "      <td>17.621477</td>\n",
       "      <td>6.050118</td>\n",
       "      <td>14.437653</td>\n",
       "      <td>0.0</td>\n",
       "      <td>28.416891</td>\n",
       "      <td>0.677236</td>\n",
       "      <td>29.199589</td>\n",
       "      <td>0.0</td>\n",
       "      <td>0.143833</td>\n",
       "      <td>1.492144e-12</td>\n",
       "      <td>1.617627e-10</td>\n",
       "      <td>9.617936e-11</td>\n",
       "    </tr>\n",
       "    <tr>\n",
       "      <th>min</th>\n",
       "      <td>7.000000e+07</td>\n",
       "      <td>-100.000000</td>\n",
       "      <td>10000.000000</td>\n",
       "      <td>20.000000</td>\n",
       "      <td>20.000000</td>\n",
       "      <td>0.000000</td>\n",
       "      <td>0.000314</td>\n",
       "      <td>100.0</td>\n",
       "      <td>0.000000</td>\n",
       "      <td>28.200000</td>\n",
       "      <td>-100.000000</td>\n",
       "      <td>18.5</td>\n",
       "      <td>4.300781</td>\n",
       "      <td>2.561268e+01</td>\n",
       "      <td>8.515887e+01</td>\n",
       "      <td>5.946000e+01</td>\n",
       "    </tr>\n",
       "    <tr>\n",
       "      <th>25%</th>\n",
       "      <td>9.000000e+07</td>\n",
       "      <td>-75.000000</td>\n",
       "      <td>50000.000000</td>\n",
       "      <td>25.000000</td>\n",
       "      <td>35.000000</td>\n",
       "      <td>5.000000</td>\n",
       "      <td>12.375045</td>\n",
       "      <td>100.0</td>\n",
       "      <td>0.000000</td>\n",
       "      <td>28.900000</td>\n",
       "      <td>-75.000000</td>\n",
       "      <td>18.5</td>\n",
       "      <td>4.526367</td>\n",
       "      <td>2.561268e+01</td>\n",
       "      <td>8.515887e+01</td>\n",
       "      <td>5.946000e+01</td>\n",
       "    </tr>\n",
       "    <tr>\n",
       "      <th>50%</th>\n",
       "      <td>1.200000e+08</td>\n",
       "      <td>-50.000000</td>\n",
       "      <td>200000.000000</td>\n",
       "      <td>30.000000</td>\n",
       "      <td>50.000000</td>\n",
       "      <td>10.000000</td>\n",
       "      <td>24.930767</td>\n",
       "      <td>100.0</td>\n",
       "      <td>0.000000</td>\n",
       "      <td>29.400000</td>\n",
       "      <td>-50.000000</td>\n",
       "      <td>18.5</td>\n",
       "      <td>4.614746</td>\n",
       "      <td>2.561268e+01</td>\n",
       "      <td>8.515887e+01</td>\n",
       "      <td>5.946000e+01</td>\n",
       "    </tr>\n",
       "    <tr>\n",
       "      <th>75%</th>\n",
       "      <td>1.400000e+08</td>\n",
       "      <td>-25.000000</td>\n",
       "      <td>500000.000000</td>\n",
       "      <td>35.000000</td>\n",
       "      <td>65.000000</td>\n",
       "      <td>15.000000</td>\n",
       "      <td>37.449448</td>\n",
       "      <td>100.0</td>\n",
       "      <td>0.000000</td>\n",
       "      <td>30.000000</td>\n",
       "      <td>-25.000000</td>\n",
       "      <td>18.5</td>\n",
       "      <td>4.683594</td>\n",
       "      <td>2.561268e+01</td>\n",
       "      <td>8.515887e+01</td>\n",
       "      <td>5.946000e+01</td>\n",
       "    </tr>\n",
       "    <tr>\n",
       "      <th>max</th>\n",
       "      <td>1.600000e+08</td>\n",
       "      <td>0.000000</td>\n",
       "      <td>1000000.000000</td>\n",
       "      <td>40.000000</td>\n",
       "      <td>80.000000</td>\n",
       "      <td>20.000000</td>\n",
       "      <td>49.999882</td>\n",
       "      <td>100.0</td>\n",
       "      <td>100.000000</td>\n",
       "      <td>30.600000</td>\n",
       "      <td>0.000000</td>\n",
       "      <td>18.5</td>\n",
       "      <td>4.956055</td>\n",
       "      <td>2.561268e+01</td>\n",
       "      <td>8.515887e+01</td>\n",
       "      <td>5.946000e+01</td>\n",
       "    </tr>\n",
       "  </tbody>\n",
       "</table>\n",
       "</div>"
      ],
      "text/plain": [
       "          Frequency  Signal Strength       Bandwidth    Temperature  \\\n",
       "count  1.641600e+05    164160.000000   164160.000000  164160.000000   \n",
       "mean   1.134665e+08       -49.931609   310092.531676      29.990869   \n",
       "std    3.038276e+07        29.189775   347437.723249       6.055765   \n",
       "min    7.000000e+07      -100.000000    10000.000000      20.000000   \n",
       "25%    9.000000e+07       -75.000000    50000.000000      25.000000   \n",
       "50%    1.200000e+08       -50.000000   200000.000000      30.000000   \n",
       "75%    1.400000e+08       -25.000000   500000.000000      35.000000   \n",
       "max    1.600000e+08         0.000000  1000000.000000      40.000000   \n",
       "\n",
       "            Humidity     Wind Speed  Precipitation  Battery Level  \\\n",
       "count  164160.000000  164160.000000  164160.000000       164160.0   \n",
       "mean       50.085977       9.996851      24.951906          100.0   \n",
       "std        17.621477       6.050118      14.437653            0.0   \n",
       "min        20.000000       0.000000       0.000314          100.0   \n",
       "25%        35.000000       5.000000      12.375045          100.0   \n",
       "50%        50.000000      10.000000      24.930767          100.0   \n",
       "75%        65.000000      15.000000      37.449448          100.0   \n",
       "max        80.000000      20.000000      49.999882          100.0   \n",
       "\n",
       "           CPU Usage   Memory Usage  WiFi Strength  Disk Usage    System Load  \\\n",
       "count  164160.000000  164160.000000  164160.000000    164160.0  164160.000000   \n",
       "mean       10.399714      29.404420     -49.861489        18.5       4.619985   \n",
       "std        28.416891       0.677236      29.199589         0.0       0.143833   \n",
       "min         0.000000      28.200000    -100.000000        18.5       4.300781   \n",
       "25%         0.000000      28.900000     -75.000000        18.5       4.526367   \n",
       "50%         0.000000      29.400000     -50.000000        18.5       4.614746   \n",
       "75%         0.000000      30.000000     -25.000000        18.5       4.683594   \n",
       "max       100.000000      30.600000       0.000000        18.5       4.956055   \n",
       "\n",
       "           Latitude     Longitude   Altitude(m)  \n",
       "count  1.641600e+05  1.641600e+05  1.641600e+05  \n",
       "mean   2.561268e+01  8.515888e+01  5.946000e+01  \n",
       "std    1.492144e-12  1.617627e-10  9.617936e-11  \n",
       "min    2.561268e+01  8.515887e+01  5.946000e+01  \n",
       "25%    2.561268e+01  8.515887e+01  5.946000e+01  \n",
       "50%    2.561268e+01  8.515887e+01  5.946000e+01  \n",
       "75%    2.561268e+01  8.515887e+01  5.946000e+01  \n",
       "max    2.561268e+01  8.515887e+01  5.946000e+01  "
      ]
     },
     "execution_count": 7,
     "metadata": {},
     "output_type": "execute_result"
    }
   ],
   "source": [
    "rf_df.describe()"
   ]
  },
  {
   "cell_type": "code",
   "execution_count": 8,
   "metadata": {},
   "outputs": [],
   "source": [
    "median_values = rf_df.median(numeric_only=True)\n",
    "mode_values = rf_df.mode()\n",
    "variance_values = rf_df.var(numeric_only=True)\n",
    "std_dev_values = rf_df.std(numeric_only=True)"
   ]
  },
  {
   "cell_type": "code",
   "execution_count": 9,
   "metadata": {},
   "outputs": [],
   "source": [
    "# Attempt to gather all signals of the same type into subsets\n",
    "grouped = rf_df.groupby(['Frequency', 'Modulation', 'Bandwidth', 'Device Type', 'Antenna Type'])\n",
    "subsets = {}\n",
    "\n",
    "for name, group in grouped:\n",
    "    subsets[name] = group"
   ]
  },
  {
   "cell_type": "code",
   "execution_count": 14,
   "metadata": {},
   "outputs": [
    {
     "data": {
      "image/png": "[encoded data removed]",
      "text/plain": [
       "<Figure size 640x480 with 1 Axes>"
      ]
     },
     "metadata": {},
     "output_type": "display_data"
    }
   ],
   "source": [
    "sub_1 = subsets[list(subsets.keys())[0]]\n",
    "sns.pointplot(x='Weather Condition', y='Signal Strength', data=sub_1);"
   ]
  },
  {
   "cell_type": "code",
   "execution_count": 18,
   "metadata": {},
   "outputs": [
    {
     "data": {
      "text/plain": [
       "<Axes: xlabel='Weather Condition', ylabel='Signal Strength'>"
      ]
     },
     "execution_count": 18,
     "metadata": {},
     "output_type": "execute_result"
    },
    {
     "data": {
      "image/png": "[encoded data removed]",
      "text/plain": [
       "<Figure size 640x480 with 1 Axes>"
      ]
     },
     "metadata": {},
     "output_type": "display_data"
    }
   ],
   "source": [
    "# Get average signal strength per subset for each weather condition\n",
    "average_sig_strength_per_weather = rf_df.groupby('Weather Condition')['Signal Strength'].mean().reset_index()\n",
    "sns.scatterplot(x='Weather Condition', y='Signal Strength', data=average_sig_strength_per_weather, legend='auto')"
   ]
  },
  {
   "cell_type": "code",
   "execution_count": null,
   "metadata": {},
   "outputs": [],
   "source": [
    "# The findings in the block above do not line up with the laws of physics and signal theory.\n",
    "# The average signal strength should be best when it is sunny and worst when it is rainy.\n",
    "# I suspect that this dataset is generated and is not real \n",
    "# OR that the data is not of a high enough quality to justify continuing."
   ]
  }
 ],
 "metadata": {
  "kernelspec": {
   "display_name": "base",
   "language": "python",
   "name": "python3"
  },
  "language_info": {
   "codemirror_mode": {
    "name": "ipython",
    "version": 3
   },
   "file_extension": ".py",
   "mimetype": "text/x-python",
   "name": "python",
   "nbconvert_exporter": "python",
   "pygments_lexer": "ipython3",
   "version": "3.11.7"
  }
 },
 "nbformat": 4,
 "nbformat_minor": 2
}
